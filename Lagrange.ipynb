{
 "cells": [
  {
   "cell_type": "markdown",
   "id": "16bc6819-cec4-496e-badd-7e6a6c6779b2",
   "metadata": {},
   "source": [
    "# FORMA DE LAGRANGE"
   ]
  },
  {
   "cell_type": "code",
   "execution_count": 2,
   "id": "7a878262-ce59-44d0-920c-a56501a77c99",
   "metadata": {},
   "outputs": [],
   "source": [
    "import pandas as pd\n",
    "import matplotlib.pyplot as plt\n",
    "import numpy as np\n",
    "import math"
   ]
  },
  {
   "cell_type": "markdown",
   "id": "f8bee603-b90e-462a-b4ee-083eb1cbefd4",
   "metadata": {},
   "source": [
    "## Formulas\n",
    "![title](./images/formula_lagrange.png)"
   ]
  },
  {
   "cell_type": "markdown",
   "id": "7f744b00-0b71-4052-8f36-dd423e1f57c8",
   "metadata": {
    "tags": []
   },
   "source": [
    "![title](./images/l(x)_lagrange.png)"
   ]
  },
  {
   "cell_type": "markdown",
   "id": "321dd0c2-5134-492b-a2dc-a7fb5c3fe2f6",
   "metadata": {},
   "source": [
    "#### Recebendo a tabela"
   ]
  },
  {
   "cell_type": "code",
   "execution_count": 36,
   "id": "91377c8c-c679-4b79-ba3e-14f66cafafef",
   "metadata": {
    "tags": []
   },
   "outputs": [
    {
     "name": "stdin",
     "output_type": "stream",
     "text": [
      "Digite a quantidade de pontos da tabela:  3\n"
     ]
    },
    {
     "name": "stdout",
     "output_type": "stream",
     "text": [
      "Insira os valores de x:\n"
     ]
    },
    {
     "name": "stdin",
     "output_type": "stream",
     "text": [
      "x0: 0\n",
      "x1: 1\n",
      "x2: 3\n"
     ]
    },
    {
     "name": "stdout",
     "output_type": "stream",
     "text": [
      "Insira os valores de f(x):\n"
     ]
    },
    {
     "name": "stdin",
     "output_type": "stream",
     "text": [
      "f(x[0]: -5\n",
      "f(x[1]: 1\n",
      "f(x[2]: 25\n"
     ]
    }
   ],
   "source": [
    "x = []\n",
    "fx = []\n",
    "tam = int(input(\"Digite a quantidade de pontos da tabela: \"))\n",
    "\n",
    "print(\"Insira os valores de x:\")\n",
    "for i in range(0, tam):\n",
    "    x.append(float(input(f\"x{i:.0f}:\")))\n",
    "\n",
    "print(\"Insira os valores de f(x):\")\n",
    "for i in range(0, tam):\n",
    "    fx.append(float(input(f\"f(x[{i:.0f}]:\")))\n",
    "    \n",
    "df = pd.DataFrame({\"x\": x, \"f(x)\": fx})"
   ]
  },
  {
   "cell_type": "code",
   "execution_count": 37,
   "id": "01deefee-7e20-44ee-a494-c801dbb1be32",
   "metadata": {},
   "outputs": [
    {
     "data": {
      "text/html": [
       "<div>\n",
       "<style scoped>\n",
       "    .dataframe tbody tr th:only-of-type {\n",
       "        vertical-align: middle;\n",
       "    }\n",
       "\n",
       "    .dataframe tbody tr th {\n",
       "        vertical-align: top;\n",
       "    }\n",
       "\n",
       "    .dataframe thead th {\n",
       "        text-align: right;\n",
       "    }\n",
       "</style>\n",
       "<table border=\"1\" class=\"dataframe\">\n",
       "  <thead>\n",
       "    <tr style=\"text-align: right;\">\n",
       "      <th></th>\n",
       "      <th>x</th>\n",
       "      <th>f(x)</th>\n",
       "    </tr>\n",
       "  </thead>\n",
       "  <tbody>\n",
       "    <tr>\n",
       "      <th>0</th>\n",
       "      <td>0.0</td>\n",
       "      <td>-5.0</td>\n",
       "    </tr>\n",
       "    <tr>\n",
       "      <th>1</th>\n",
       "      <td>1.0</td>\n",
       "      <td>1.0</td>\n",
       "    </tr>\n",
       "    <tr>\n",
       "      <th>2</th>\n",
       "      <td>3.0</td>\n",
       "      <td>25.0</td>\n",
       "    </tr>\n",
       "  </tbody>\n",
       "</table>\n",
       "</div>"
      ],
      "text/plain": [
       "     x  f(x)\n",
       "0  0.0  -5.0\n",
       "1  1.0   1.0\n",
       "2  3.0  25.0"
      ]
     },
     "execution_count": 37,
     "metadata": {},
     "output_type": "execute_result"
    }
   ],
   "source": [
    "df"
   ]
  },
  {
   "cell_type": "code",
   "execution_count": 38,
   "id": "dba8837f-29a4-43d6-a0e4-333fd5f60fe4",
   "metadata": {},
   "outputs": [
    {
     "name": "stdin",
     "output_type": "stream",
     "text": [
      "Digite o valor de x que deseja interpolar:  2\n"
     ]
    },
    {
     "name": "stdout",
     "output_type": "stream",
     "text": [
      "Ln[0]: -0.33\n",
      "Ln[1]: 1.00\n",
      "Ln[2]: 0.33\n",
      "O ponto 2.0 em f(x) é: 11.00\n"
     ]
    }
   ],
   "source": [
    "x_inter = float(input(\"Digite o valor de x que deseja interpolar: \"))\n",
    "\n",
    "somatorio = 0\n",
    "produtorio = 1\n",
    "\n",
    "for i in range(0, tam):\n",
    "    for j in range(0, tam):\n",
    "        if (i != j):\n",
    "            produtorio *= ((x_inter - x[j]) / (x[i] - x[j]));\n",
    "            \n",
    "    print(f\"Ln[{i}]: {produtorio:.2f}\");\n",
    "    somatorio += (produtorio * fx[i]);\n",
    "    produtorio = 1;\n",
    "    \n",
    "print(f\"O ponto {x_inter} em f(x) é: {somatorio:.2f}\")"
   ]
  }
 ],
 "metadata": {
  "kernelspec": {
   "display_name": "Python 3",
   "language": "python",
   "name": "python3"
  },
  "language_info": {
   "codemirror_mode": {
    "name": "ipython",
    "version": 3
   },
   "file_extension": ".py",
   "mimetype": "text/x-python",
   "name": "python",
   "nbconvert_exporter": "python",
   "pygments_lexer": "ipython3",
   "version": "3.6.9"
  }
 },
 "nbformat": 4,
 "nbformat_minor": 5
}
