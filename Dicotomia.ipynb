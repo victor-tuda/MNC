{
 "cells": [
  {
   "cell_type": "markdown",
   "id": "eea6f1a4-e183-4974-9be4-148a12627217",
   "metadata": {},
   "source": [
    "# DICOTOMIA"
   ]
  },
  {
   "cell_type": "markdown",
   "id": "303d660c-cc64-4fcd-9891-f108c42398ec",
   "metadata": {
    "tags": []
   },
   "source": [
    "Objetivo: Estudar um dos métodos numéricos para obtenção de\n",
    "zeros reais de funções"
   ]
  },
  {
   "cell_type": "markdown",
   "id": "f1c35a34-9b04-4634-ba3f-6e0b7b87d65a",
   "metadata": {
    "tags": []
   },
   "source": [
    "#### Importando bibliotecas"
   ]
  },
  {
   "cell_type": "code",
   "execution_count": 105,
   "id": "17564b99-d17f-4e07-8e89-a53683f9258e",
   "metadata": {},
   "outputs": [],
   "source": [
    "import pandas as pd\n",
    "import matplotlib.pyplot as plt\n",
    "import numpy as np\n",
    "import math"
   ]
  },
  {
   "cell_type": "markdown",
   "id": "56f55e72-b693-470b-800f-09013e22ff26",
   "metadata": {
    "jp-MarkdownHeadingCollapsed": true,
    "tags": []
   },
   "source": [
    "#### Declarando Funções"
   ]
  },
  {
   "cell_type": "code",
   "execution_count": 111,
   "id": "66d90208-12e3-4c7b-ad72-1b8bee224d73",
   "metadata": {},
   "outputs": [],
   "source": [
    "def retorno_funcao(serie, x):\n",
    "    resultado = 0\n",
    "    grau = len(serie) - 1\n",
    "    \n",
    "    for i in range(0, len(serie)):\n",
    "        resultado += serie[i] * pow(x, grau-i)\n",
    "    \n",
    "    return resultado"
   ]
  },
  {
   "cell_type": "code",
   "execution_count": 109,
   "id": "0cc08730-096a-405a-b0ce-900a5ef34058",
   "metadata": {
    "tags": []
   },
   "outputs": [],
   "source": [
    "def mostrar_eq(equacao):\n",
    "    print(\"f(x) = \", end=\"\")\n",
    "    for i in range(0, tam):\n",
    "        if i == 0:\n",
    "            if(equacao[i] < 0):\n",
    "                print(\" - ({}x^{})\".format(equacao[i] * -1, tam-i-1), end=\"\")\n",
    "            else:\n",
    "                print(\"({}x^{})\".format(equacao[i], tam-i-1), end=\"\")\n",
    "        elif i == tam - 1:\n",
    "            if(equacao[i] < 0):\n",
    "                print(\" - ({})\".format(equacao[i] * -1), end=\"\")\n",
    "            else:\n",
    "                print(\" + ({})\".format(equacao[i]), end=\"\")\n",
    "        else:\n",
    "            if(equacao[i] < 0):\n",
    "                print(\" - ({}x^{})\".format(equacao[i] * -1, tam-i-1), end=\"\")\n",
    "            else:\n",
    "                print(\" + ({}x^{})\".format(equacao[i], tam-i-1), end=\"\")\n",
    "        "
   ]
  },
  {
   "cell_type": "markdown",
   "id": "7b5c1e9e-e7f3-46f1-a019-1352fb81f06d",
   "metadata": {
    "jp-MarkdownHeadingCollapsed": true,
    "tags": []
   },
   "source": [
    "##### Critérios de parada"
   ]
  },
  {
   "cell_type": "code",
   "execution_count": 106,
   "id": "30a720e7-7872-41b3-bf9e-aefc0bfeec8d",
   "metadata": {
    "tags": []
   },
   "outputs": [],
   "source": [
    "# Erro estipulado\n",
    "# Retorna 1 caso |a - b| < Erro estipulado\n",
    "# Se não, retorna 0\n",
    "def erro_estipulado(a, b, erro_estipulado):\n",
    "    diferenca = abs(b - a)\n",
    "    if (diferenca < erro_estipulado):\n",
    "        return 1\n",
    "    else:\n",
    "        return 0"
   ]
  },
  {
   "cell_type": "code",
   "execution_count": 107,
   "id": "1e73037c-1d10-4fef-9b17-fc658425d416",
   "metadata": {},
   "outputs": [],
   "source": [
    "# Verifica a enésima iteração\n",
    "# Retorna 1 caso f(m) <= Erro estipulado\n",
    "# Também retorna 1 caso f(m) = 0 (raiz encontrada)\n",
    "def verifica_iteracao(valor, erro_estipulado):\n",
    "    if(valor <= erro_estipulado):\n",
    "        return 1\n",
    "    elif(valor == 0):\n",
    "        return 1\n",
    "    else:\n",
    "        return 0"
   ]
  },
  {
   "cell_type": "code",
   "execution_count": 108,
   "id": "feb5a9ff-5bd8-4e61-abcb-1dc7a19b9499",
   "metadata": {},
   "outputs": [],
   "source": [
    "# Tanto o 1º critério e o 2º critério podem levar a um número muito grande de iterações.\n",
    "# Por esta razão é possível tomar como um critério de parada adicional um número máximo ou uma estimativa do número de iterações\n",
    "# Fórmula: k >= (log(abs(b-a)) - log(erro_estipulado)) / log(2)\n",
    "def numero_iteracao(a, b, erro_estipulado):\n",
    "    valor_minimo_iteracoes = (math.log10(abs(b-a)) - math.log10(erro_estipulado)) / math.log10(2)\n",
    "    return valor_minimo_iteracoes"
   ]
  },
  {
   "cell_type": "markdown",
   "id": "eebd15a9-2d4c-4baa-abab-36904a588586",
   "metadata": {},
   "source": [
    "#### Recebendo valores"
   ]
  },
  {
   "cell_type": "code",
   "execution_count": 110,
   "id": "aed334e6-f416-4f4b-8f6f-3091f3e8224f",
   "metadata": {},
   "outputs": [
    {
     "name": "stdin",
     "output_type": "stream",
     "text": [
      "Digite o tamanho do polinômio:  4\n"
     ]
    },
    {
     "name": "stdout",
     "output_type": "stream",
     "text": [
      "Digite os valores\n"
     ]
    },
    {
     "name": "stdin",
     "output_type": "stream",
     "text": [
      "X^3: 1\n",
      "X^2: 0\n",
      "X^1: 1\n",
      "X^0: -4\n"
     ]
    },
    {
     "name": "stdout",
     "output_type": "stream",
     "text": [
      "f(x) = (1.0x^3) + (0.0x^2) + (1.0x^1) - (4.0)"
     ]
    }
   ],
   "source": [
    "tam = int(input(\"Digite o tamanho do polinômio: \"))\n",
    "equacao = []\n",
    "print(\"Digite os valores\")\n",
    "for i in range(tam - 1, -1, -1):\n",
    "    equacao.append(float(input(\"X^{}:\".format(i))))\n",
    "mostrar_eq(equacao)\n",
    "eq_serie = pd.Series(equacao) # Convertendo para serie"
   ]
  },
  {
   "cell_type": "markdown",
   "id": "a87e983e-9a84-4982-86eb-abacece59ba5",
   "metadata": {},
   "source": [
    "#### Criando o DataFrame"
   ]
  },
  {
   "cell_type": "code",
   "execution_count": 113,
   "id": "4a721920-58c5-40be-8542-0e2f820e153a",
   "metadata": {},
   "outputs": [
    {
     "name": "stdin",
     "output_type": "stream",
     "text": [
      "Digite o valor do intervalo A:  1\n",
      "Digite o valor do intervalo B:  4\n",
      "Digite o valor do erro:  0.025\n"
     ]
    },
    {
     "name": "stdout",
     "output_type": "stream",
     "text": [
      "Número de iterações: 6.90689\n"
     ]
    }
   ],
   "source": [
    "intervalo_a = float(input(\"Digite o valor do intervalo A: \"))\n",
    "intervalo_b = float(input(\"Digite o valor do intervalo B: \"))\n",
    "erro = float(input(\"Digite o valor do erro: \"))\n",
    "k = numero_iteracao(intervalo_a, intervalo_b, erro)\n",
    "print(\"Número de iterações: %.5f\" % k)"
   ]
  },
  {
   "cell_type": "code",
   "execution_count": 165,
   "id": "7a75d4f0-1c48-40fd-b7d8-478f7a94929d",
   "metadata": {},
   "outputs": [],
   "source": [
    "resultado = retorno_funcao(eq_serie, 2)"
   ]
  },
  {
   "cell_type": "code",
   "execution_count": 114,
   "id": "def0f1fb-ebf8-46f5-9763-b370bb0392a4",
   "metadata": {},
   "outputs": [],
   "source": [
    "pd.options.display.float_format = '{:.3f}'.format\n",
    "df = pd.DataFrame(columns = [\"i\", \"a\", \"m\", \"b\", \"f(a)\", \"f(m)\", \"f(b)\", \"|b - a|\", \"status\"])"
   ]
  },
  {
   "cell_type": "code",
   "execution_count": 115,
   "id": "cb52f60b-0123-4bfc-bc18-84bb4a2b8343",
   "metadata": {},
   "outputs": [],
   "source": [
    "k = int(k)\n",
    "for i in range(0, k + 1):\n",
    "    linha = []\n",
    "    if i == 0:\n",
    "        a = intervalo_a\n",
    "        b = intervalo_b\n",
    "        m = (a + b) / 2\n",
    "        status = \"inicio\"\n",
    "    else:\n",
    "        if(fm > 0):\n",
    "            b = m\n",
    "            status = \"continua\"\n",
    "        elif(fm < 0):\n",
    "            a = m\n",
    "            status = \"continua\"\n",
    "        else:\n",
    "            status = \"raiz exata encontrada\"\n",
    "        m = (a + b) / 2\n",
    "        \n",
    "    fa = retorno_funcao(eq_serie, a)\n",
    "    fb = retorno_funcao(eq_serie, b)\n",
    "    fm = retorno_funcao(eq_serie, m)\n",
    "    \n",
    "    if erro_estipulado(a, b, erro) == 1:\n",
    "        status = \"criterio de parada 1\"\n",
    "        \n",
    "    if verifica_iteracao(fm, erro):\n",
    "        status = \"critério de parada 2 \"\n",
    "    \n",
    "    if i == k:\n",
    "        status = \"critério de parada 3\"\n",
    "    \n",
    "    \n",
    "    linha.append(i)\n",
    "    linha.append(a)\n",
    "    linha.append(m)\n",
    "    linha.append(b)\n",
    "    linha.append(fa)\n",
    "    linha.append(fm)\n",
    "    linha.append(fb)\n",
    "    linha.append(abs(b-a))\n",
    "    linha.append(status)\n",
    "    \n",
    "    df.loc[i] = linha"
   ]
  },
  {
   "cell_type": "code",
   "execution_count": 116,
   "id": "82da039e-f6ee-4fe0-a3b4-c3d29e1aa3b3",
   "metadata": {},
   "outputs": [
    {
     "data": {
      "text/html": [
       "<div>\n",
       "<style scoped>\n",
       "    .dataframe tbody tr th:only-of-type {\n",
       "        vertical-align: middle;\n",
       "    }\n",
       "\n",
       "    .dataframe tbody tr th {\n",
       "        vertical-align: top;\n",
       "    }\n",
       "\n",
       "    .dataframe thead th {\n",
       "        text-align: right;\n",
       "    }\n",
       "</style>\n",
       "<table border=\"1\" class=\"dataframe\">\n",
       "  <thead>\n",
       "    <tr style=\"text-align: right;\">\n",
       "      <th></th>\n",
       "      <th>i</th>\n",
       "      <th>a</th>\n",
       "      <th>m</th>\n",
       "      <th>b</th>\n",
       "      <th>f(a)</th>\n",
       "      <th>f(m)</th>\n",
       "      <th>f(b)</th>\n",
       "      <th>|b - a|</th>\n",
       "      <th>status</th>\n",
       "    </tr>\n",
       "  </thead>\n",
       "  <tbody>\n",
       "    <tr>\n",
       "      <th>0</th>\n",
       "      <td>0</td>\n",
       "      <td>1.000</td>\n",
       "      <td>2.500</td>\n",
       "      <td>4.000</td>\n",
       "      <td>-2.000</td>\n",
       "      <td>14.125</td>\n",
       "      <td>64.000</td>\n",
       "      <td>3.000</td>\n",
       "      <td>inicio</td>\n",
       "    </tr>\n",
       "    <tr>\n",
       "      <th>1</th>\n",
       "      <td>1</td>\n",
       "      <td>1.000</td>\n",
       "      <td>1.750</td>\n",
       "      <td>2.500</td>\n",
       "      <td>-2.000</td>\n",
       "      <td>3.109</td>\n",
       "      <td>14.125</td>\n",
       "      <td>1.500</td>\n",
       "      <td>continua</td>\n",
       "    </tr>\n",
       "    <tr>\n",
       "      <th>2</th>\n",
       "      <td>2</td>\n",
       "      <td>1.000</td>\n",
       "      <td>1.375</td>\n",
       "      <td>1.750</td>\n",
       "      <td>-2.000</td>\n",
       "      <td>-0.025</td>\n",
       "      <td>3.109</td>\n",
       "      <td>0.750</td>\n",
       "      <td>critério de parada 2</td>\n",
       "    </tr>\n",
       "    <tr>\n",
       "      <th>3</th>\n",
       "      <td>3</td>\n",
       "      <td>1.375</td>\n",
       "      <td>1.562</td>\n",
       "      <td>1.750</td>\n",
       "      <td>-0.025</td>\n",
       "      <td>1.377</td>\n",
       "      <td>3.109</td>\n",
       "      <td>0.375</td>\n",
       "      <td>continua</td>\n",
       "    </tr>\n",
       "    <tr>\n",
       "      <th>4</th>\n",
       "      <td>4</td>\n",
       "      <td>1.375</td>\n",
       "      <td>1.469</td>\n",
       "      <td>1.562</td>\n",
       "      <td>-0.025</td>\n",
       "      <td>0.637</td>\n",
       "      <td>1.377</td>\n",
       "      <td>0.188</td>\n",
       "      <td>continua</td>\n",
       "    </tr>\n",
       "    <tr>\n",
       "      <th>5</th>\n",
       "      <td>5</td>\n",
       "      <td>1.375</td>\n",
       "      <td>1.422</td>\n",
       "      <td>1.469</td>\n",
       "      <td>-0.025</td>\n",
       "      <td>0.297</td>\n",
       "      <td>0.637</td>\n",
       "      <td>0.094</td>\n",
       "      <td>continua</td>\n",
       "    </tr>\n",
       "    <tr>\n",
       "      <th>6</th>\n",
       "      <td>6</td>\n",
       "      <td>1.375</td>\n",
       "      <td>1.398</td>\n",
       "      <td>1.422</td>\n",
       "      <td>-0.025</td>\n",
       "      <td>0.133</td>\n",
       "      <td>0.297</td>\n",
       "      <td>0.047</td>\n",
       "      <td>critério de parada 3</td>\n",
       "    </tr>\n",
       "  </tbody>\n",
       "</table>\n",
       "</div>"
      ],
      "text/plain": [
       "   i     a     m     b   f(a)   f(m)   f(b)  |b - a|                 status\n",
       "0  0 1.000 2.500 4.000 -2.000 14.125 64.000    3.000                 inicio\n",
       "1  1 1.000 1.750 2.500 -2.000  3.109 14.125    1.500               continua\n",
       "2  2 1.000 1.375 1.750 -2.000 -0.025  3.109    0.750  critério de parada 2 \n",
       "3  3 1.375 1.562 1.750 -0.025  1.377  3.109    0.375               continua\n",
       "4  4 1.375 1.469 1.562 -0.025  0.637  1.377    0.188               continua\n",
       "5  5 1.375 1.422 1.469 -0.025  0.297  0.637    0.094               continua\n",
       "6  6 1.375 1.398 1.422 -0.025  0.133  0.297    0.047   critério de parada 3"
      ]
     },
     "execution_count": 116,
     "metadata": {},
     "output_type": "execute_result"
    }
   ],
   "source": [
    "df"
   ]
  },
  {
   "cell_type": "markdown",
   "id": "a9db847f-6065-4b19-b2e7-b40f0f9e98a0",
   "metadata": {
    "tags": []
   },
   "source": [
    "#### Visualização da equação"
   ]
  },
  {
   "cell_type": "code",
   "execution_count": 117,
   "id": "dc707037-a78d-4b54-a34f-4ca9b524af7a",
   "metadata": {},
   "outputs": [
    {
     "data": {
      "text/plain": [
       "[<matplotlib.lines.Line2D at 0x7f89d30c2cc0>]"
      ]
     },
     "execution_count": 117,
     "metadata": {},
     "output_type": "execute_result"
    },
    {
     "data": {
      "image/png": "[encoded data removed]",
      "text/plain": [
       "<Figure size 432x288 with 1 Axes>"
      ]
     },
     "metadata": {
      "needs_background": "light"
     },
     "output_type": "display_data"
    }
   ],
   "source": [
    "x = pd.Series(range(-100, 100))\n",
    "y = retorno_funcao(eq_serie, pd.Series(range(-100, 100)))\n",
    "\n",
    "plt.plot(x,y)"
   ]
  }
 ],
 "metadata": {
  "kernelspec": {
   "display_name": "Python 3",
   "language": "python",
   "name": "python3"
  },
  "language_info": {
   "codemirror_mode": {
    "name": "ipython",
    "version": 3
   },
   "file_extension": ".py",
   "mimetype": "text/x-python",
   "name": "python",
   "nbconvert_exporter": "python",
   "pygments_lexer": "ipython3",
   "version": "3.6.9"
  }
 },
 "nbformat": 4,
 "nbformat_minor": 5
}
