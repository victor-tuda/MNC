{
 "cells": [
  {
   "cell_type": "markdown",
   "id": "292a9e2c-a76d-48b4-8e35-ded790c32f70",
   "metadata": {},
   "source": [
    "# Regra dos Trapézios por número de iterações"
   ]
  },
  {
   "cell_type": "markdown",
   "id": "2d285a66-ff98-4b7a-821d-48d8de5cae45",
   "metadata": {},
   "source": [
    "#### Importando bibliotecas"
   ]
  },
  {
   "cell_type": "code",
   "execution_count": 6,
   "id": "1665dfca-0d0a-4037-adbd-089a0e175ad6",
   "metadata": {},
   "outputs": [],
   "source": [
    "import pandas as pd\n",
    "import matplotlib.pyplot as plt\n",
    "import numpy as np\n",
    "import math"
   ]
  },
  {
   "cell_type": "markdown",
   "id": "057ec9e4-37c6-48dd-a93b-1469aea7e016",
   "metadata": {},
   "source": [
    "#### Declarando Funções"
   ]
  },
  {
   "cell_type": "code",
   "execution_count": 27,
   "id": "797e4330-79b1-4fb6-bacd-355f2f9caf52",
   "metadata": {},
   "outputs": [],
   "source": [
    "def retorno_funcao(serie, x):\n",
    "    resultado = 0\n",
    "    grau = len(serie) - 1\n",
    "    \n",
    "    for i in range(0, len(serie)):\n",
    "        resultado += serie[i] * pow(x, grau-i)\n",
    "    \n",
    "    return resultado"
   ]
  },
  {
   "cell_type": "code",
   "execution_count": 28,
   "id": "46fa58ff-afdc-46e2-9257-a4045a486c26",
   "metadata": {
    "tags": []
   },
   "outputs": [],
   "source": [
    "def mostrar_eq(equacao):\n",
    "    print(\"f(x) = \", end=\"\")\n",
    "    for i in range(0, tam):\n",
    "        if i == 0:\n",
    "            if(equacao[i] < 0):\n",
    "                print(\" - ({}x^{})\".format(equacao[i] * -1, tam-i-1), end=\"\")\n",
    "            else:\n",
    "                print(\"({}x^{})\".format(equacao[i], tam-i-1), end=\"\")\n",
    "        elif i == tam - 1:\n",
    "            if(equacao[i] < 0):\n",
    "                print(\" - ({})\".format(equacao[i] * -1), end=\"\")\n",
    "            else:\n",
    "                print(\" + ({})\".format(equacao[i]), end=\"\")\n",
    "        else:\n",
    "            if(equacao[i] < 0):\n",
    "                print(\" - ({}x^{})\".format(equacao[i] * -1, tam-i-1), end=\"\")\n",
    "            else:\n",
    "                print(\" + ({}x^{})\".format(equacao[i], tam-i-1), end=\"\")\n",
    "        "
   ]
  },
  {
   "cell_type": "markdown",
   "id": "c5571057-4481-41d8-8ac1-ade791ae87f1",
   "metadata": {},
   "source": [
    "#### Recebendo valores"
   ]
  },
  {
   "cell_type": "code",
   "execution_count": 30,
   "id": "184d3b3b-c32d-4a79-8c14-9f4997265136",
   "metadata": {},
   "outputs": [
    {
     "name": "stdin",
     "output_type": "stream",
     "text": [
      "Digite o tamanho do polinômio:  3\n"
     ]
    },
    {
     "name": "stdout",
     "output_type": "stream",
     "text": [
      "Digite os valores\n"
     ]
    },
    {
     "name": "stdin",
     "output_type": "stream",
     "text": [
      "X^2: 1\n",
      "X^1: 0\n",
      "X^0: 1\n"
     ]
    },
    {
     "name": "stdout",
     "output_type": "stream",
     "text": [
      "f(x) = (1.0x^2) + (0.0x^1) + (1.0)"
     ]
    }
   ],
   "source": [
    "tam = int(input(\"Digite o tamanho do polinômio: \"))\n",
    "equacao = []\n",
    "print(\"Digite os valores\")\n",
    "for i in range(tam - 1, -1, -1):\n",
    "    equacao.append(float(input(\"X^{}:\".format(i))))\n",
    "mostrar_eq(equacao)\n",
    "eq_serie = pd.Series(equacao)"
   ]
  },
  {
   "cell_type": "code",
   "execution_count": 14,
   "id": "4ed9a5d0-d2f9-4511-8d74-2fe54fe7dc74",
   "metadata": {},
   "outputs": [
    {
     "name": "stdin",
     "output_type": "stream",
     "text": [
      "Digite o intervalo [a]:  2\n",
      "Digite o intervalo [b]:  4\n",
      "Digite o numero de divisões do intervalo:  5\n"
     ]
    }
   ],
   "source": [
    "intervalo_a = float(input(\"Digite o intervalo [a]: \"))\n",
    "intervalo_b = float(input(\"Digite o intervalo [b]: \"))\n",
    "                          \n",
    "if intervalo_a > intervalo_b:\n",
    "    print(\"Invertendo os intervalos:\")\n",
    "    intervalo_a, intervalo_b = intervalo_b, intervalo_a\n",
    "    print(f\"intervalo [a]: {intervalo_a}\")\n",
    "    print(f\"intervalo [b]: {intervalo_b}\")\n",
    "\n",
    "elif(intervalo_a == intervalo_b):\n",
    "    print(\"Valores inválidos de intervalo\")\n",
    "    raise SystemExit \n",
    "    \n",
    "n = float(input(\"Digite o numero de divisões do intervalo: \"))"
   ]
  },
  {
   "cell_type": "markdown",
   "id": "0e2231dc-5639-4fa4-ad37-725e3a43f85a",
   "metadata": {},
   "source": [
    "#### Cálculo do H"
   ]
  },
  {
   "cell_type": "code",
   "execution_count": 18,
   "id": "b921ec99-b03e-49af-bc43-17f1a97fa5bf",
   "metadata": {},
   "outputs": [
    {
     "name": "stdout",
     "output_type": "stream",
     "text": [
      "h = (4.00 - 2.00) / 5.00\n",
      "h = 0.40\n"
     ]
    }
   ],
   "source": [
    "h = (intervalo_b - intervalo_a) / n\n",
    "print(f\"h = ({intervalo_b:.2f} - {intervalo_a:.2f}) / {n:.2f}\")\n",
    "print(f\"h = {h:.2f}\")"
   ]
  },
  {
   "cell_type": "markdown",
   "id": "9dfb7516-7b39-4a1e-9bfd-91a80630a4df",
   "metadata": {},
   "source": [
    "#### Cálculo da tabela de valores"
   ]
  },
  {
   "cell_type": "code",
   "execution_count": 34,
   "id": "3e0615cb-bf5a-4535-a2d1-40bc4574ac79",
   "metadata": {},
   "outputs": [],
   "source": [
    "x = [intervalo_a]\n",
    "fx = [retorno_funcao(eq_serie, intervalo_a)]\n",
    "\n",
    "for i in range(1, int(n)+1):\n",
    "    x.append(x[i-1] + h)\n",
    "    fx.append(retorno_funcao(eq_serie, x[i]))"
   ]
  },
  {
   "cell_type": "markdown",
   "id": "e0bcd39b-50d7-4c51-b6cc-1ac9b0563a47",
   "metadata": {},
   "source": [
    "#### Criando o DataFrame"
   ]
  },
  {
   "cell_type": "code",
   "execution_count": 39,
   "id": "73c3e8aa-faae-4cf8-8d7c-7ff66b8740e4",
   "metadata": {},
   "outputs": [],
   "source": [
    "pd.options.display.float_format = '{:.2f}'.format\n",
    "df = pd.DataFrame({\"x\": x, \"fx\": fx})"
   ]
  },
  {
   "cell_type": "code",
   "execution_count": 40,
   "id": "d216fb2e-fbc5-414b-89e2-fda7366cce36",
   "metadata": {},
   "outputs": [
    {
     "data": {
      "text/html": [
       "<div>\n",
       "<style scoped>\n",
       "    .dataframe tbody tr th:only-of-type {\n",
       "        vertical-align: middle;\n",
       "    }\n",
       "\n",
       "    .dataframe tbody tr th {\n",
       "        vertical-align: top;\n",
       "    }\n",
       "\n",
       "    .dataframe thead th {\n",
       "        text-align: right;\n",
       "    }\n",
       "</style>\n",
       "<table border=\"1\" class=\"dataframe\">\n",
       "  <thead>\n",
       "    <tr style=\"text-align: right;\">\n",
       "      <th></th>\n",
       "      <th>x</th>\n",
       "      <th>fx</th>\n",
       "    </tr>\n",
       "  </thead>\n",
       "  <tbody>\n",
       "    <tr>\n",
       "      <th>0</th>\n",
       "      <td>2.00</td>\n",
       "      <td>5.00</td>\n",
       "    </tr>\n",
       "    <tr>\n",
       "      <th>1</th>\n",
       "      <td>2.40</td>\n",
       "      <td>6.76</td>\n",
       "    </tr>\n",
       "    <tr>\n",
       "      <th>2</th>\n",
       "      <td>2.80</td>\n",
       "      <td>8.84</td>\n",
       "    </tr>\n",
       "    <tr>\n",
       "      <th>3</th>\n",
       "      <td>3.20</td>\n",
       "      <td>11.24</td>\n",
       "    </tr>\n",
       "    <tr>\n",
       "      <th>4</th>\n",
       "      <td>3.60</td>\n",
       "      <td>13.96</td>\n",
       "    </tr>\n",
       "    <tr>\n",
       "      <th>5</th>\n",
       "      <td>4.00</td>\n",
       "      <td>17.00</td>\n",
       "    </tr>\n",
       "  </tbody>\n",
       "</table>\n",
       "</div>"
      ],
      "text/plain": [
       "     x    fx\n",
       "0 2.00  5.00\n",
       "1 2.40  6.76\n",
       "2 2.80  8.84\n",
       "3 3.20 11.24\n",
       "4 3.60 13.96\n",
       "5 4.00 17.00"
      ]
     },
     "execution_count": 40,
     "metadata": {},
     "output_type": "execute_result"
    }
   ],
   "source": [
    "df"
   ]
  }
 ],
 "metadata": {
  "kernelspec": {
   "display_name": "Python 3",
   "language": "python",
   "name": "python3"
  },
  "language_info": {
   "codemirror_mode": {
    "name": "ipython",
    "version": 3
   },
   "file_extension": ".py",
   "mimetype": "text/x-python",
   "name": "python",
   "nbconvert_exporter": "python",
   "pygments_lexer": "ipython3",
   "version": "3.6.9"
  }
 },
 "nbformat": 4,
 "nbformat_minor": 5
}
